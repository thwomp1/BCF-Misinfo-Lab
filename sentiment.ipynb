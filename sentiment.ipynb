{
 "cells": [
  {
   "cell_type": "code",
   "execution_count": 78,
   "metadata": {},
   "outputs": [
    {
     "name": "stderr",
     "output_type": "stream",
     "text": [
      "C:\\Users\\wannl\\AppData\\Local\\Temp\\ipykernel_11648\\2592141248.py:17: FutureWarning: The default value of regex will change from True to False in a future version.\n",
      "  df['Text'] = df['Text'].str.replace(\"[^a-zA-Z#]\", \" \")\n"
     ]
    },
    {
     "name": "stdout",
     "output_type": "stream",
     "text": [
      "Sentiment(polarity=0.11021925605258931, subjectivity=0.47880772005771993)\n"
     ]
    }
   ],
   "source": [
    "# conduct sentiment analysis on individual user posts\n",
    "# code retrieved and modified from https://stackoverflow.com/questions/46764674/sentiment-analysis-on-dataframe and https://towardsdatascience.com/my-absolute-go-to-for-sentiment-analysis-textblob-3ac3a11d524 and https://www.red-gate.com/simple-talk/development/data-science-development/sentiment-analysis-python/\n",
    "\n",
    "import pandas as pd\n",
    "from textblob import TextBlob\n",
    "\n",
    "# read in user post as dataframe\n",
    "df = pd.read_csv(r\"C:\\Users\\wannl\\OneDrive\\Documents\\Classes\\HON498\\code\\science\\Wagamaga\\science-Wagamaga-9\")\n",
    "df.columns = ['Text']\n",
    "\n",
    "# function for sentiment analysis on a single comment\n",
    "def sentiment_analysis(comment):\n",
    "    return [TextBlob(comment).sentiment.polarity, TextBlob(comment).sentiment.subjectivity]\n",
    "\n",
    "#data clean-up\n",
    "#remove all non-alphabet characters\n",
    "df['Text'] = df['Text'].str.replace(\"[^a-zA-Z#]\", \" \")\n",
    "#covert to lower-case\n",
    "df['Text'] = df['Text'].str.casefold()\n",
    "#print(df.head(10))\n",
    "\n",
    "# Sentiment analysis using TextBlob on post dataframe\n",
    "for row in df.itertuples():\n",
    "    text = df['Text']\n",
    "    comments = \" \".join(str(x) for x in text)\n",
    "    text = TextBlob(comments)\n",
    "    score = text.sentiment\n",
    "\n",
    "print(score)\n"
   ]
  }
 ],
 "metadata": {
  "kernelspec": {
   "display_name": "Python 3.11.0 64-bit",
   "language": "python",
   "name": "python3"
  },
  "language_info": {
   "codemirror_mode": {
    "name": "ipython",
    "version": 3
   },
   "file_extension": ".py",
   "mimetype": "text/x-python",
   "name": "python",
   "nbconvert_exporter": "python",
   "pygments_lexer": "ipython3",
   "version": "3.11.0"
  },
  "orig_nbformat": 4,
  "vscode": {
   "interpreter": {
    "hash": "fcf6a953c45f6d3f0e37c533b6406ce57e0cff940207ccaf420ac89b616ffd2e"
   }
  }
 },
 "nbformat": 4,
 "nbformat_minor": 2
}
